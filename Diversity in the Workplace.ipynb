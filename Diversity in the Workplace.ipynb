{
 "cells": [
  {
   "cell_type": "markdown",
   "metadata": {},
   "source": [
    "# Analysis of Diversity in the Workplace"
   ]
  },
  {
   "cell_type": "markdown",
   "metadata": {},
   "source": [
    "### What I did"
   ]
  },
  {
   "cell_type": "markdown",
   "metadata": {},
   "source": [
    "1. Identify each employee's corresponding level (there're 6 levels in total)\n",
    "2. Calculate how many people each employee manages (output a table with employee ids with the number of people managed)\n",
    "3. Build a machine-learning model to predict the salary of each employee\n",
    "4. Describe the main factors impacting employee salaries"
   ]
  },
  {
   "cell_type": "markdown",
   "metadata": {},
   "source": [
    "### Sources"
   ]
  },
  {
   "cell_type": "markdown",
   "metadata": {},
   "source": [
    "Datasets provided in the book - [A Collection of Data Science Takehome Challenges](https://datamasked.com/)"
   ]
  },
  {
   "cell_type": "markdown",
   "metadata": {},
   "source": [
    "### Takeaways from the Analysis"
   ]
  },
  {
   "cell_type": "markdown",
   "metadata": {},
   "source": [
    "__Are all employees being paid fair? Are there any bias?__\n",
    "\n",
    "generally, the company treat its employee fairly. the difference among different sex and departments seems normal and fair enough.\n",
    "\n",
    "the only bias I can see is that, the management level is likely to be overpaid. Higher the level, more likely to be overpaid."
   ]
  },
  {
   "cell_type": "markdown",
   "metadata": {},
   "source": [
    "__Suggestions to HR header__\n",
    "\n",
    "I may suggest him/her considering lower down the salaries in high management level , which may be more fair to the workforce.\n",
    "give higher salary to employees who are underpaid."
   ]
  },
  {
   "cell_type": "code",
   "execution_count": 1,
   "metadata": {},
   "outputs": [
    {
     "name": "stderr",
     "output_type": "stream",
     "text": [
      "/Users/wanyihuang/anaconda/lib/python3.6/site-packages/sklearn/ensemble/weight_boosting.py:29: DeprecationWarning: numpy.core.umath_tests is an internal NumPy module and should not be imported. It will be removed in a future NumPy release.\n",
      "  from numpy.core.umath_tests import inner1d\n"
     ]
    }
   ],
   "source": [
    "import pandas as pd\n",
    "import numpy as np\n",
    "import matplotlib.pyplot as plt\n",
    "\n",
    "%matplotlib inline\n",
    "import scipy\n",
    "from sklearn.metrics import pairwise_distances\n",
    "import seaborn as sns\n",
    "import sklearn\n",
    "sns.set_style('darkgrid')\n",
    "from sklearn.preprocessing import LabelEncoder\n",
    "from sklearn.model_selection import train_test_split\n",
    "from sklearn.metrics import mean_squared_error, mean_absolute_error, r2_score\n",
    "from sklearn.ensemble import RandomForestRegressor\n",
    "from sklearn.feature_selection import chi2\n",
    "import xgboost as xgb\n",
    "\n",
    "def sh(df):\n",
    "    print(df.shape)\n",
    "    return df.head()"
   ]
  },
  {
   "cell_type": "code",
   "execution_count": 2,
   "metadata": {},
   "outputs": [
    {
     "name": "stdout",
     "output_type": "stream",
     "text": [
      "10000\n",
      "(10000, 3)\n"
     ]
    },
    {
     "data": {
      "text/html": [
       "<div>\n",
       "<style scoped>\n",
       "    .dataframe tbody tr th:only-of-type {\n",
       "        vertical-align: middle;\n",
       "    }\n",
       "\n",
       "    .dataframe tbody tr th {\n",
       "        vertical-align: top;\n",
       "    }\n",
       "\n",
       "    .dataframe thead th {\n",
       "        text-align: right;\n",
       "    }\n",
       "</style>\n",
       "<table border=\"1\" class=\"dataframe\">\n",
       "  <thead>\n",
       "    <tr style=\"text-align: right;\">\n",
       "      <th></th>\n",
       "      <th>employee_id</th>\n",
       "      <th>boss_id</th>\n",
       "      <th>dept</th>\n",
       "    </tr>\n",
       "  </thead>\n",
       "  <tbody>\n",
       "    <tr>\n",
       "      <th>0</th>\n",
       "      <td>46456</td>\n",
       "      <td>175361</td>\n",
       "      <td>sales</td>\n",
       "    </tr>\n",
       "    <tr>\n",
       "      <th>1</th>\n",
       "      <td>104708</td>\n",
       "      <td>29733</td>\n",
       "      <td>HR</td>\n",
       "    </tr>\n",
       "    <tr>\n",
       "      <th>2</th>\n",
       "      <td>120853</td>\n",
       "      <td>41991</td>\n",
       "      <td>sales</td>\n",
       "    </tr>\n",
       "    <tr>\n",
       "      <th>3</th>\n",
       "      <td>142630</td>\n",
       "      <td>171266</td>\n",
       "      <td>HR</td>\n",
       "    </tr>\n",
       "    <tr>\n",
       "      <th>4</th>\n",
       "      <td>72711</td>\n",
       "      <td>198240</td>\n",
       "      <td>sales</td>\n",
       "    </tr>\n",
       "  </tbody>\n",
       "</table>\n",
       "</div>"
      ],
      "text/plain": [
       "   employee_id  boss_id   dept\n",
       "0        46456   175361  sales\n",
       "1       104708    29733     HR\n",
       "2       120853    41991  sales\n",
       "3       142630   171266     HR\n",
       "4        72711   198240  sales"
      ]
     },
     "execution_count": 2,
     "metadata": {},
     "output_type": "execute_result"
    }
   ],
   "source": [
    "comp = pd.read_csv('company_hierarchy.csv')\n",
    "\n",
    "#assign 0 to boss_id if the employee doesn't have a boss (the CEO)\n",
    "comp = comp.fillna(0)\n",
    "comp.boss_id = comp.boss_id.astype(int)\n",
    "print(comp.employee_id.nunique())\n",
    "sh(comp)"
   ]
  },
  {
   "cell_type": "code",
   "execution_count": 3,
   "metadata": {},
   "outputs": [
    {
     "data": {
      "text/plain": [
       "employee_id    0\n",
       "boss_id        0\n",
       "dept           0\n",
       "dtype: int64"
      ]
     },
     "execution_count": 3,
     "metadata": {},
     "output_type": "execute_result"
    }
   ],
   "source": [
    "#sanity check the null values in the dataset\n",
    "comp.isnull().sum()"
   ]
  },
  {
   "cell_type": "code",
   "execution_count": 4,
   "metadata": {},
   "outputs": [
    {
     "name": "stdout",
     "output_type": "stream",
     "text": [
      "10000\n",
      "(10000, 6)\n"
     ]
    },
    {
     "data": {
      "text/html": [
       "<div>\n",
       "<style scoped>\n",
       "    .dataframe tbody tr th:only-of-type {\n",
       "        vertical-align: middle;\n",
       "    }\n",
       "\n",
       "    .dataframe tbody tr th {\n",
       "        vertical-align: top;\n",
       "    }\n",
       "\n",
       "    .dataframe thead th {\n",
       "        text-align: right;\n",
       "    }\n",
       "</style>\n",
       "<table border=\"1\" class=\"dataframe\">\n",
       "  <thead>\n",
       "    <tr style=\"text-align: right;\">\n",
       "      <th></th>\n",
       "      <th>employee_id</th>\n",
       "      <th>signing_bonus</th>\n",
       "      <th>salary</th>\n",
       "      <th>degree_level</th>\n",
       "      <th>sex</th>\n",
       "      <th>yrs_experience</th>\n",
       "    </tr>\n",
       "  </thead>\n",
       "  <tbody>\n",
       "    <tr>\n",
       "      <th>0</th>\n",
       "      <td>138719</td>\n",
       "      <td>0</td>\n",
       "      <td>273000.0</td>\n",
       "      <td>Master</td>\n",
       "      <td>M</td>\n",
       "      <td>2</td>\n",
       "    </tr>\n",
       "    <tr>\n",
       "      <th>1</th>\n",
       "      <td>3192</td>\n",
       "      <td>0</td>\n",
       "      <td>301000.0</td>\n",
       "      <td>Bachelor</td>\n",
       "      <td>F</td>\n",
       "      <td>1</td>\n",
       "    </tr>\n",
       "    <tr>\n",
       "      <th>2</th>\n",
       "      <td>114657</td>\n",
       "      <td>0</td>\n",
       "      <td>261000.0</td>\n",
       "      <td>Master</td>\n",
       "      <td>F</td>\n",
       "      <td>2</td>\n",
       "    </tr>\n",
       "    <tr>\n",
       "      <th>3</th>\n",
       "      <td>29039</td>\n",
       "      <td>0</td>\n",
       "      <td>86000.0</td>\n",
       "      <td>High_School</td>\n",
       "      <td>F</td>\n",
       "      <td>4</td>\n",
       "    </tr>\n",
       "    <tr>\n",
       "      <th>4</th>\n",
       "      <td>118607</td>\n",
       "      <td>0</td>\n",
       "      <td>126000.0</td>\n",
       "      <td>Bachelor</td>\n",
       "      <td>F</td>\n",
       "      <td>3</td>\n",
       "    </tr>\n",
       "  </tbody>\n",
       "</table>\n",
       "</div>"
      ],
      "text/plain": [
       "   employee_id  signing_bonus    salary degree_level sex  yrs_experience\n",
       "0       138719              0  273000.0       Master   M               2\n",
       "1         3192              0  301000.0     Bachelor   F               1\n",
       "2       114657              0  261000.0       Master   F               2\n",
       "3        29039              0   86000.0  High_School   F               4\n",
       "4       118607              0  126000.0     Bachelor   F               3"
      ]
     },
     "execution_count": 4,
     "metadata": {},
     "output_type": "execute_result"
    }
   ],
   "source": [
    "emp = pd.read_csv('employee.csv')\n",
    "print(emp.employee_id.nunique())\n",
    "sh(emp)"
   ]
  },
  {
   "cell_type": "markdown",
   "metadata": {},
   "source": [
    "### 1. Identify each employee's corresponding level"
   ]
  },
  {
   "cell_type": "markdown",
   "metadata": {},
   "source": [
    "__LOGIC (Use the top down method):__\n",
    "1. Create a list of all levels\n",
    "2. Write a loop to assign all levels to each employee_id based on their boss's level, starting from CEO to IC\n",
    "\n",
    "The 6 levels for employees:\n",
    "* Individual Contributors (IC) - they don't manage anyone\n",
    "* Middle Managers (MM) - they are the direct bosses of IC\n",
    "* Directors (D) - they are the direct bosses of MM\n",
    "* VP - D direct bosses\n",
    "* Executives (E) - VP direct bosses\n",
    "* CEO - The direct boss of E."
   ]
  },
  {
   "cell_type": "code",
   "execution_count": 5,
   "metadata": {},
   "outputs": [],
   "source": [
    "levels = ['CEO', 'E', 'VP', 'D', 'MM', 'IC']\n",
    "comp.loc[comp.dept == 'CEO', 'level'] = 'CEO' #start from  the ball rolling\n",
    "\n",
    "for i in range(len(levels) - 1): #must use len(levels) - 1 because you want to start with boss level of CEO and then get the employee level using i+1\n",
    "    boss_level = levels[i]  \n",
    "    emp_level = levels[i + 1]\n",
    "    boss_ids = comp.loc[comp.level == boss_level, 'employee_id'] #no need to transfer to list in order to use isin function\n",
    "    comp.loc[comp.boss_id.isin(boss_ids), 'level'] = emp_level"
   ]
  },
  {
   "cell_type": "code",
   "execution_count": 6,
   "metadata": {},
   "outputs": [
    {
     "data": {
      "text/html": [
       "<div>\n",
       "<style scoped>\n",
       "    .dataframe tbody tr th:only-of-type {\n",
       "        vertical-align: middle;\n",
       "    }\n",
       "\n",
       "    .dataframe tbody tr th {\n",
       "        vertical-align: top;\n",
       "    }\n",
       "\n",
       "    .dataframe thead th {\n",
       "        text-align: right;\n",
       "    }\n",
       "</style>\n",
       "<table border=\"1\" class=\"dataframe\">\n",
       "  <thead>\n",
       "    <tr style=\"text-align: right;\">\n",
       "      <th></th>\n",
       "      <th>employee_id</th>\n",
       "      <th>boss_id</th>\n",
       "      <th>dept</th>\n",
       "      <th>level</th>\n",
       "    </tr>\n",
       "  </thead>\n",
       "  <tbody>\n",
       "    <tr>\n",
       "      <th>8704</th>\n",
       "      <td>26268</td>\n",
       "      <td>70547</td>\n",
       "      <td>marketing</td>\n",
       "      <td>IC</td>\n",
       "    </tr>\n",
       "    <tr>\n",
       "      <th>4309</th>\n",
       "      <td>147948</td>\n",
       "      <td>96664</td>\n",
       "      <td>marketing</td>\n",
       "      <td>IC</td>\n",
       "    </tr>\n",
       "    <tr>\n",
       "      <th>9889</th>\n",
       "      <td>43810</td>\n",
       "      <td>159098</td>\n",
       "      <td>engineering</td>\n",
       "      <td>IC</td>\n",
       "    </tr>\n",
       "    <tr>\n",
       "      <th>3606</th>\n",
       "      <td>123190</td>\n",
       "      <td>133420</td>\n",
       "      <td>sales</td>\n",
       "      <td>IC</td>\n",
       "    </tr>\n",
       "    <tr>\n",
       "      <th>8184</th>\n",
       "      <td>152022</td>\n",
       "      <td>92765</td>\n",
       "      <td>engineering</td>\n",
       "      <td>IC</td>\n",
       "    </tr>\n",
       "    <tr>\n",
       "      <th>4088</th>\n",
       "      <td>57810</td>\n",
       "      <td>52525</td>\n",
       "      <td>engineering</td>\n",
       "      <td>IC</td>\n",
       "    </tr>\n",
       "    <tr>\n",
       "      <th>457</th>\n",
       "      <td>40324</td>\n",
       "      <td>95169</td>\n",
       "      <td>sales</td>\n",
       "      <td>IC</td>\n",
       "    </tr>\n",
       "    <tr>\n",
       "      <th>511</th>\n",
       "      <td>12871</td>\n",
       "      <td>85426</td>\n",
       "      <td>HR</td>\n",
       "      <td>IC</td>\n",
       "    </tr>\n",
       "    <tr>\n",
       "      <th>1037</th>\n",
       "      <td>113555</td>\n",
       "      <td>104759</td>\n",
       "      <td>HR</td>\n",
       "      <td>IC</td>\n",
       "    </tr>\n",
       "    <tr>\n",
       "      <th>8655</th>\n",
       "      <td>30714</td>\n",
       "      <td>41808</td>\n",
       "      <td>HR</td>\n",
       "      <td>IC</td>\n",
       "    </tr>\n",
       "  </tbody>\n",
       "</table>\n",
       "</div>"
      ],
      "text/plain": [
       "      employee_id  boss_id         dept level\n",
       "8704        26268    70547    marketing    IC\n",
       "4309       147948    96664    marketing    IC\n",
       "9889        43810   159098  engineering    IC\n",
       "3606       123190   133420        sales    IC\n",
       "8184       152022    92765  engineering    IC\n",
       "4088        57810    52525  engineering    IC\n",
       "457         40324    95169        sales    IC\n",
       "511         12871    85426           HR    IC\n",
       "1037       113555   104759           HR    IC\n",
       "8655        30714    41808           HR    IC"
      ]
     },
     "execution_count": 6,
     "metadata": {},
     "output_type": "execute_result"
    }
   ],
   "source": [
    "comp.sample(10)"
   ]
  },
  {
   "cell_type": "code",
   "execution_count": 7,
   "metadata": {},
   "outputs": [
    {
     "data": {
      "text/html": [
       "<div>\n",
       "<style scoped>\n",
       "    .dataframe tbody tr th:only-of-type {\n",
       "        vertical-align: middle;\n",
       "    }\n",
       "\n",
       "    .dataframe tbody tr th {\n",
       "        vertical-align: top;\n",
       "    }\n",
       "\n",
       "    .dataframe thead th {\n",
       "        text-align: right;\n",
       "    }\n",
       "</style>\n",
       "<table border=\"1\" class=\"dataframe\">\n",
       "  <thead>\n",
       "    <tr style=\"text-align: right;\">\n",
       "      <th></th>\n",
       "      <th>level</th>\n",
       "      <th>employee_id</th>\n",
       "    </tr>\n",
       "  </thead>\n",
       "  <tbody>\n",
       "    <tr>\n",
       "      <th>0</th>\n",
       "      <td>CEO</td>\n",
       "      <td>1</td>\n",
       "    </tr>\n",
       "    <tr>\n",
       "      <th>1</th>\n",
       "      <td>D</td>\n",
       "      <td>160</td>\n",
       "    </tr>\n",
       "    <tr>\n",
       "      <th>2</th>\n",
       "      <td>E</td>\n",
       "      <td>4</td>\n",
       "    </tr>\n",
       "    <tr>\n",
       "      <th>3</th>\n",
       "      <td>IC</td>\n",
       "      <td>9000</td>\n",
       "    </tr>\n",
       "    <tr>\n",
       "      <th>4</th>\n",
       "      <td>MM</td>\n",
       "      <td>800</td>\n",
       "    </tr>\n",
       "    <tr>\n",
       "      <th>5</th>\n",
       "      <td>VP</td>\n",
       "      <td>35</td>\n",
       "    </tr>\n",
       "  </tbody>\n",
       "</table>\n",
       "</div>"
      ],
      "text/plain": [
       "  level  employee_id\n",
       "0   CEO            1\n",
       "1     D          160\n",
       "2     E            4\n",
       "3    IC         9000\n",
       "4    MM          800\n",
       "5    VP           35"
      ]
     },
     "execution_count": 7,
     "metadata": {},
     "output_type": "execute_result"
    }
   ],
   "source": [
    "comp.groupby('level').employee_id.nunique().reset_index()"
   ]
  },
  {
   "cell_type": "markdown",
   "metadata": {},
   "source": [
    "### 2. Calculate how many people each employee manages"
   ]
  },
  {
   "cell_type": "markdown",
   "metadata": {},
   "source": [
    "__LOGIC:__ <br>\n",
    "Instead of using top down method, the bottom up method is used here: <br>\n",
    "Start from the entry level and then sum the number of employees up based on direct management and indirect management."
   ]
  },
  {
   "cell_type": "code",
   "execution_count": 8,
   "metadata": {},
   "outputs": [],
   "source": [
    "levels = ['IC', 'MM', 'D', 'VP', 'E', 'CEO'] #bottom up, start from IC and then end with CEO\n",
    "comp.loc[comp.level == 'IC', 'number'] = 0   #initiate the process with IC number = 0\n",
    "\n",
    "for i in range(len(levels) - 1):\n",
    "    emp_level = levels[i]\n",
    "    boss_level = levels[i + 1]\n",
    "    boss_ids = comp.loc[comp.level == boss_level, 'employee_id']\n",
    "    for id in boss_ids:   #because this is not based on employee level assignment, it's based on each employe,so we loop through each single employee\n",
    "        direct = len(comp[comp.boss_id == id]) #direct managed employees\n",
    "        indirect = comp[comp.boss_id == id].number.sum() #indirect managed employees\n",
    "        comp.loc[comp.employee_id == id, 'number'] = direct + indirect  #the final number should be direct + indirect"
   ]
  },
  {
   "cell_type": "code",
   "execution_count": 9,
   "metadata": {},
   "outputs": [
    {
     "data": {
      "text/html": [
       "<div>\n",
       "<style scoped>\n",
       "    .dataframe tbody tr th:only-of-type {\n",
       "        vertical-align: middle;\n",
       "    }\n",
       "\n",
       "    .dataframe tbody tr th {\n",
       "        vertical-align: top;\n",
       "    }\n",
       "\n",
       "    .dataframe thead th {\n",
       "        text-align: right;\n",
       "    }\n",
       "</style>\n",
       "<table border=\"1\" class=\"dataframe\">\n",
       "  <thead>\n",
       "    <tr style=\"text-align: right;\">\n",
       "      <th></th>\n",
       "      <th>employee_id</th>\n",
       "      <th>boss_id</th>\n",
       "      <th>dept</th>\n",
       "      <th>level</th>\n",
       "      <th>number</th>\n",
       "    </tr>\n",
       "  </thead>\n",
       "  <tbody>\n",
       "    <tr>\n",
       "      <th>6159</th>\n",
       "      <td>142890</td>\n",
       "      <td>87330</td>\n",
       "      <td>engineering</td>\n",
       "      <td>IC</td>\n",
       "      <td>0.0</td>\n",
       "    </tr>\n",
       "    <tr>\n",
       "      <th>4308</th>\n",
       "      <td>6371</td>\n",
       "      <td>16073</td>\n",
       "      <td>marketing</td>\n",
       "      <td>IC</td>\n",
       "      <td>0.0</td>\n",
       "    </tr>\n",
       "    <tr>\n",
       "      <th>9353</th>\n",
       "      <td>86379</td>\n",
       "      <td>165853</td>\n",
       "      <td>engineering</td>\n",
       "      <td>IC</td>\n",
       "      <td>0.0</td>\n",
       "    </tr>\n",
       "    <tr>\n",
       "      <th>5088</th>\n",
       "      <td>134812</td>\n",
       "      <td>5889</td>\n",
       "      <td>HR</td>\n",
       "      <td>IC</td>\n",
       "      <td>0.0</td>\n",
       "    </tr>\n",
       "    <tr>\n",
       "      <th>9016</th>\n",
       "      <td>70809</td>\n",
       "      <td>15768</td>\n",
       "      <td>HR</td>\n",
       "      <td>IC</td>\n",
       "      <td>0.0</td>\n",
       "    </tr>\n",
       "    <tr>\n",
       "      <th>8088</th>\n",
       "      <td>108912</td>\n",
       "      <td>79237</td>\n",
       "      <td>marketing</td>\n",
       "      <td>IC</td>\n",
       "      <td>0.0</td>\n",
       "    </tr>\n",
       "    <tr>\n",
       "      <th>3671</th>\n",
       "      <td>138823</td>\n",
       "      <td>124994</td>\n",
       "      <td>HR</td>\n",
       "      <td>D</td>\n",
       "      <td>116.0</td>\n",
       "    </tr>\n",
       "    <tr>\n",
       "      <th>8346</th>\n",
       "      <td>60753</td>\n",
       "      <td>47748</td>\n",
       "      <td>HR</td>\n",
       "      <td>IC</td>\n",
       "      <td>0.0</td>\n",
       "    </tr>\n",
       "    <tr>\n",
       "      <th>5100</th>\n",
       "      <td>141763</td>\n",
       "      <td>132192</td>\n",
       "      <td>HR</td>\n",
       "      <td>IC</td>\n",
       "      <td>0.0</td>\n",
       "    </tr>\n",
       "    <tr>\n",
       "      <th>5326</th>\n",
       "      <td>21987</td>\n",
       "      <td>159098</td>\n",
       "      <td>engineering</td>\n",
       "      <td>IC</td>\n",
       "      <td>0.0</td>\n",
       "    </tr>\n",
       "  </tbody>\n",
       "</table>\n",
       "</div>"
      ],
      "text/plain": [
       "      employee_id  boss_id         dept level  number\n",
       "6159       142890    87330  engineering    IC     0.0\n",
       "4308         6371    16073    marketing    IC     0.0\n",
       "9353        86379   165853  engineering    IC     0.0\n",
       "5088       134812     5889           HR    IC     0.0\n",
       "9016        70809    15768           HR    IC     0.0\n",
       "8088       108912    79237    marketing    IC     0.0\n",
       "3671       138823   124994           HR     D   116.0\n",
       "8346        60753    47748           HR    IC     0.0\n",
       "5100       141763   132192           HR    IC     0.0\n",
       "5326        21987   159098  engineering    IC     0.0"
      ]
     },
     "execution_count": 9,
     "metadata": {},
     "output_type": "execute_result"
    }
   ],
   "source": [
    "comp.sample(10)"
   ]
  },
  {
   "cell_type": "code",
   "execution_count": 10,
   "metadata": {},
   "outputs": [
    {
     "data": {
      "text/plain": [
       "level\n",
       "CEO    9999.000000\n",
       "D        61.250000\n",
       "E      2498.750000\n",
       "IC        0.000000\n",
       "MM       11.250000\n",
       "VP      284.571429\n",
       "Name: number, dtype: float64"
      ]
     },
     "execution_count": 10,
     "metadata": {},
     "output_type": "execute_result"
    }
   ],
   "source": [
    "comp.groupby('level').number.mean()"
   ]
  },
  {
   "cell_type": "markdown",
   "metadata": {},
   "source": [
    "### 3. Build a machine-learning model to predict the salary of each employee"
   ]
  },
  {
   "cell_type": "markdown",
   "metadata": {},
   "source": [
    "__LOGIC:__ <br>\n",
    "1. Visualization (exploratory analysis to detect patterns), segment the employees properly to observe the possible difference\n",
    "2. Feature Engineering:\n",
    "    - remove the unnecessary columns \n",
    "    - transform some columns into numbers (one-hot encoding) - the order matters\n",
    "    - log transformation for highly right skewed data\n",
    "    - remove the outliers (especially for income data)\n",
    "3. Split the df to train and test dataset for model training \n",
    "4. Evaluate the model by calculating the RMSE"
   ]
  },
  {
   "cell_type": "code",
   "execution_count": 11,
   "metadata": {},
   "outputs": [
    {
     "name": "stdout",
     "output_type": "stream",
     "text": [
      "(10000, 10)\n"
     ]
    },
    {
     "data": {
      "text/html": [
       "<div>\n",
       "<style scoped>\n",
       "    .dataframe tbody tr th:only-of-type {\n",
       "        vertical-align: middle;\n",
       "    }\n",
       "\n",
       "    .dataframe tbody tr th {\n",
       "        vertical-align: top;\n",
       "    }\n",
       "\n",
       "    .dataframe thead th {\n",
       "        text-align: right;\n",
       "    }\n",
       "</style>\n",
       "<table border=\"1\" class=\"dataframe\">\n",
       "  <thead>\n",
       "    <tr style=\"text-align: right;\">\n",
       "      <th></th>\n",
       "      <th>employee_id</th>\n",
       "      <th>boss_id</th>\n",
       "      <th>dept</th>\n",
       "      <th>level</th>\n",
       "      <th>number</th>\n",
       "      <th>signing_bonus</th>\n",
       "      <th>salary</th>\n",
       "      <th>degree_level</th>\n",
       "      <th>sex</th>\n",
       "      <th>yrs_experience</th>\n",
       "    </tr>\n",
       "  </thead>\n",
       "  <tbody>\n",
       "    <tr>\n",
       "      <th>0</th>\n",
       "      <td>46456</td>\n",
       "      <td>175361</td>\n",
       "      <td>sales</td>\n",
       "      <td>IC</td>\n",
       "      <td>0.0</td>\n",
       "      <td>0</td>\n",
       "      <td>213.0</td>\n",
       "      <td>Bachelor</td>\n",
       "      <td>M</td>\n",
       "      <td>5</td>\n",
       "    </tr>\n",
       "    <tr>\n",
       "      <th>1</th>\n",
       "      <td>104708</td>\n",
       "      <td>29733</td>\n",
       "      <td>HR</td>\n",
       "      <td>IC</td>\n",
       "      <td>0.0</td>\n",
       "      <td>0</td>\n",
       "      <td>79.0</td>\n",
       "      <td>Bachelor</td>\n",
       "      <td>F</td>\n",
       "      <td>3</td>\n",
       "    </tr>\n",
       "    <tr>\n",
       "      <th>2</th>\n",
       "      <td>120853</td>\n",
       "      <td>41991</td>\n",
       "      <td>sales</td>\n",
       "      <td>IC</td>\n",
       "      <td>0.0</td>\n",
       "      <td>0</td>\n",
       "      <td>199.0</td>\n",
       "      <td>High_School</td>\n",
       "      <td>M</td>\n",
       "      <td>5</td>\n",
       "    </tr>\n",
       "    <tr>\n",
       "      <th>3</th>\n",
       "      <td>142630</td>\n",
       "      <td>171266</td>\n",
       "      <td>HR</td>\n",
       "      <td>MM</td>\n",
       "      <td>16.0</td>\n",
       "      <td>0</td>\n",
       "      <td>143.0</td>\n",
       "      <td>PhD</td>\n",
       "      <td>F</td>\n",
       "      <td>13</td>\n",
       "    </tr>\n",
       "    <tr>\n",
       "      <th>4</th>\n",
       "      <td>72711</td>\n",
       "      <td>198240</td>\n",
       "      <td>sales</td>\n",
       "      <td>IC</td>\n",
       "      <td>0.0</td>\n",
       "      <td>0</td>\n",
       "      <td>235.0</td>\n",
       "      <td>Master</td>\n",
       "      <td>M</td>\n",
       "      <td>1</td>\n",
       "    </tr>\n",
       "  </tbody>\n",
       "</table>\n",
       "</div>"
      ],
      "text/plain": [
       "   employee_id  boss_id   dept level  number  signing_bonus  salary  \\\n",
       "0        46456   175361  sales    IC     0.0              0   213.0   \n",
       "1       104708    29733     HR    IC     0.0              0    79.0   \n",
       "2       120853    41991  sales    IC     0.0              0   199.0   \n",
       "3       142630   171266     HR    MM    16.0              0   143.0   \n",
       "4        72711   198240  sales    IC     0.0              0   235.0   \n",
       "\n",
       "  degree_level sex  yrs_experience  \n",
       "0     Bachelor   M               5  \n",
       "1     Bachelor   F               3  \n",
       "2  High_School   M               5  \n",
       "3          PhD   F              13  \n",
       "4       Master   M               1  "
      ]
     },
     "execution_count": 11,
     "metadata": {},
     "output_type": "execute_result"
    }
   ],
   "source": [
    "df = comp.merge(emp, how = 'left', on = 'employee_id')\n",
    "df[\"salary\"] /= 1000\n",
    "sh(df)"
   ]
  },
  {
   "cell_type": "markdown",
   "metadata": {},
   "source": [
    "#### 3.1 Data Visualization"
   ]
  },
  {
   "cell_type": "code",
   "execution_count": 12,
   "metadata": {},
   "outputs": [
    {
     "name": "stderr",
     "output_type": "stream",
     "text": [
      "/Users/wanyihuang/anaconda/lib/python3.6/site-packages/seaborn/distributions.py:2557: FutureWarning: `distplot` is a deprecated function and will be removed in a future version. Please adapt your code to use either `displot` (a figure-level function with similar flexibility) or `histplot` (an axes-level function for histograms).\n",
      "  warnings.warn(msg, FutureWarning)\n",
      "/Users/wanyihuang/anaconda/lib/python3.6/site-packages/matplotlib/cbook/__init__.py:1402: FutureWarning: Support for multi-dimensional indexing (e.g. `obj[:, None]`) is deprecated and will be removed in a future version.  Convert to a numpy array before indexing instead.\n",
      "  x[:, None]\n",
      "/Users/wanyihuang/anaconda/lib/python3.6/site-packages/matplotlib/axes/_base.py:276: FutureWarning: Support for multi-dimensional indexing (e.g. `obj[:, None]`) is deprecated and will be removed in a future version.  Convert to a numpy array before indexing instead.\n",
      "  x = x[:, np.newaxis]\n",
      "/Users/wanyihuang/anaconda/lib/python3.6/site-packages/matplotlib/axes/_base.py:278: FutureWarning: Support for multi-dimensional indexing (e.g. `obj[:, None]`) is deprecated and will be removed in a future version.  Convert to a numpy array before indexing instead.\n",
      "  y = y[:, np.newaxis]\n",
      "/Users/wanyihuang/anaconda/lib/python3.6/site-packages/seaborn/distributions.py:2557: FutureWarning: `distplot` is a deprecated function and will be removed in a future version. Please adapt your code to use either `displot` (a figure-level function with similar flexibility) or `histplot` (an axes-level function for histograms).\n",
      "  warnings.warn(msg, FutureWarning)\n",
      "/Users/wanyihuang/anaconda/lib/python3.6/site-packages/matplotlib/cbook/__init__.py:1402: FutureWarning: Support for multi-dimensional indexing (e.g. `obj[:, None]`) is deprecated and will be removed in a future version.  Convert to a numpy array before indexing instead.\n",
      "  x[:, None]\n",
      "/Users/wanyihuang/anaconda/lib/python3.6/site-packages/matplotlib/axes/_base.py:276: FutureWarning: Support for multi-dimensional indexing (e.g. `obj[:, None]`) is deprecated and will be removed in a future version.  Convert to a numpy array before indexing instead.\n",
      "  x = x[:, np.newaxis]\n",
      "/Users/wanyihuang/anaconda/lib/python3.6/site-packages/matplotlib/axes/_base.py:278: FutureWarning: Support for multi-dimensional indexing (e.g. `obj[:, None]`) is deprecated and will be removed in a future version.  Convert to a numpy array before indexing instead.\n",
      "  y = y[:, np.newaxis]\n"
     ]
    },
    {
     "data": {
      "image/png": "[encoded data removed]",
      "text/plain": [
       "<Figure size 1152x360 with 2 Axes>"
      ]
     },
     "metadata": {},
     "output_type": "display_data"
    }
   ],
   "source": [
    "# Distribution of salary\n",
    "hist_kws={'histtype': 'bar', 'edgecolor':'black', 'alpha': 0.2}\n",
    "\n",
    "fig, ax = plt.subplots(nrows=1, ncols=2, figsize=(16, 5))\n",
    "sns.distplot(df['salary'], ax=ax[0], hist_kws=hist_kws)\n",
    "sns.distplot(np.log(df['salary']), ax=ax[1], hist_kws=hist_kws)\n",
    "ax[1].set_xlabel('log(salary)')\n",
    "plt.tight_layout()\n",
    "plt.show()"
   ]
  },
  {
   "cell_type": "code",
   "execution_count": 13,
   "metadata": {},
   "outputs": [
    {
     "data": {
      "image/png": "[encoded data removed]",
      "text/plain": [
       "<Figure size 1080x432 with 2 Axes>"
      ]
     },
     "metadata": {},
     "output_type": "display_data"
    }
   ],
   "source": [
    "# dept\n",
    "fig, ax = plt.subplots(nrows=1, ncols=2, figsize=(15, 6))\n",
    "sns.countplot(x='dept', data=df, ax=ax[0])\n",
    "ax[0].set_ylabel('dept-wise Transaction Number', fontsize=12)\n",
    "\n",
    "sns.barplot(x='dept', y='salary', data=df, ax=ax[1])\n",
    "ax[1].set_ylabel('dept-wise Transaction Amount', fontsize=12)\n",
    "plt.tight_layout()\n",
    "plt.show()"
   ]
  },
  {
   "cell_type": "code",
   "execution_count": 14,
   "metadata": {},
   "outputs": [
    {
     "data": {
      "image/png": "[encoded data removed]",
      "text/plain": [
       "<Figure size 1080x432 with 2 Axes>"
      ]
     },
     "metadata": {},
     "output_type": "display_data"
    }
   ],
   "source": [
    "# level\n",
    "orders = ['IC', 'MM', 'D', 'VP', 'E', 'CEO']\n",
    "fig, ax = plt.subplots(nrows=1, ncols=2, figsize=(15, 6))\n",
    "sns.countplot(x='level', data=df, ax=ax[0], order=orders)\n",
    "ax[0].set_ylabel('level-wise Transaction Number', fontsize=12)\n",
    "\n",
    "sns.barplot(x='level', y='salary', data=df, ax=ax[1], order=orders)\n",
    "ax[1].set_ylabel('level-wise Transaction Amount', fontsize=12)\n",
    "plt.tight_layout()\n",
    "plt.show()"
   ]
  },
  {
   "cell_type": "code",
   "execution_count": 15,
   "metadata": {},
   "outputs": [
    {
     "data": {
      "image/png": "[encoded data removed]",
      "text/plain": [
       "<Figure size 1080x432 with 2 Axes>"
      ]
     },
     "metadata": {},
     "output_type": "display_data"
    }
   ],
   "source": [
    "# signing_bonus\n",
    "fig, ax = plt.subplots(nrows=1, ncols=2, figsize=(15, 6))\n",
    "sns.countplot(x='signing_bonus', data=df, ax=ax[0])\n",
    "ax[0].set_ylabel('signing_bonus-wise Transaction Number', fontsize=12)\n",
    "\n",
    "sns.barplot(x='signing_bonus', y='salary', data=df, ax=ax[1])\n",
    "ax[1].set_ylabel('signing_bonus-wise Transaction Amount', fontsize=12)\n",
    "plt.tight_layout()\n",
    "plt.show()"
   ]
  },
  {
   "cell_type": "code",
   "execution_count": 16,
   "metadata": {},
   "outputs": [
    {
     "data": {
      "image/png": "[encoded data removed]",
      "text/plain": [
       "<Figure size 1080x432 with 2 Axes>"
      ]
     },
     "metadata": {},
     "output_type": "display_data"
    }
   ],
   "source": [
    "# sex\n",
    "fig, ax = plt.subplots(nrows=1, ncols=2, figsize=(15, 6))\n",
    "sns.countplot(x='sex', data=df, ax=ax[0])\n",
    "ax[0].set_ylabel('sex-wise Transaction Number', fontsize=12)\n",
    "\n",
    "sns.barplot(x='sex', y='salary', data=df, ax=ax[1])\n",
    "ax[1].set_ylabel('sex-wise Transaction Amount', fontsize=12)\n",
    "plt.tight_layout()\n",
    "plt.show()"
   ]
  },
  {
   "cell_type": "code",
   "execution_count": 17,
   "metadata": {},
   "outputs": [
    {
     "data": {
      "image/png": "[encoded data removed]",
      "text/plain": [
       "<Figure size 1080x432 with 2 Axes>"
      ]
     },
     "metadata": {},
     "output_type": "display_data"
    }
   ],
   "source": [
    "# degree_level\n",
    "fig, ax = plt.subplots(nrows=1, ncols=2, figsize=(15, 6))\n",
    "sns.countplot(x='degree_level', data=df, ax=ax[0])\n",
    "ax[0].set_ylabel('degree_level-wise Transaction Number', fontsize=12)\n",
    "\n",
    "sns.barplot(x='degree_level', y='salary', data=df, ax=ax[1])\n",
    "ax[1].set_ylabel('degree_level-wise Transaction Amount', fontsize=12)\n",
    "plt.tight_layout()\n",
    "plt.show()"
   ]
  },
  {
   "cell_type": "code",
   "execution_count": 18,
   "metadata": {},
   "outputs": [
    {
     "data": {
      "image/png": "[encoded data removed]",
      "text/plain": [
       "<Figure size 1080x432 with 2 Axes>"
      ]
     },
     "metadata": {},
     "output_type": "display_data"
    }
   ],
   "source": [
    "# yrs_experience\n",
    "fig, ax = plt.subplots(nrows=1, ncols=2, figsize=(15, 6))\n",
    "sns.countplot(x='yrs_experience', data=df, ax=ax[0])\n",
    "ax[0].set_ylabel('yrs_experience-wise Transaction Number', fontsize=12)\n",
    "\n",
    "sns.barplot(x='yrs_experience', y='salary', data=df, ax=ax[1])\n",
    "ax[1].set_ylabel('yrs_experience-wise Transaction Amount', fontsize=12)\n",
    "plt.tight_layout()\n",
    "plt.show()"
   ]
  },
  {
   "cell_type": "markdown",
   "metadata": {},
   "source": [
    "#### 3.2 Feature Engineering"
   ]
  },
  {
   "cell_type": "code",
   "execution_count": 19,
   "metadata": {},
   "outputs": [],
   "source": [
    "X = df.copy()\n",
    "\n",
    "X[\"is_male\"] = (X.sex == \"M\").astype(int)\n",
    "del X[\"sex\"]\n",
    "del X['boss_id']#assuming boss_id won't affect salary\n",
    "\n",
    "# transform 'level' into numbers\n",
    "# !!! ORDER matters\n",
    "index2level = ['IC','MM',\"D\",\"VP\",\"E\",\"CEO\"]\n",
    "level2index = {l:index for index,l in enumerate(index2level)}\n",
    "X['level'] = X.level.map(level2index)\n",
    "\n",
    "# transform 'educational degree' into numbers\n",
    "# !!! ORDER matters\n",
    "index2degree = ['High_School','Bachelor','Master','PhD']\n",
    "degree2index = {d:index for index,d in enumerate(index2degree)}\n",
    "X['degree'] = X.degree_level.map(degree2index)\n",
    "del X['degree_level']\n",
    "\n",
    "# OHE department\n",
    "X = pd.get_dummies(X)\n",
    "del X['dept_CEO']"
   ]
  },
  {
   "cell_type": "code",
   "execution_count": 20,
   "metadata": {},
   "outputs": [
    {
     "data": {
      "text/plain": [
       "<matplotlib.axes._subplots.AxesSubplot at 0x7fd224ebd710>"
      ]
     },
     "execution_count": 20,
     "metadata": {},
     "output_type": "execute_result"
    },
    {
     "data": {
      "image/png": "[encoded data removed]",
      "text/plain": [
       "<Figure size 432x288 with 1 Axes>"
      ]
     },
     "metadata": {},
     "output_type": "display_data"
    }
   ],
   "source": [
    "X.salary.hist(bins=50)"
   ]
  },
  {
   "cell_type": "markdown",
   "metadata": {},
   "source": [
    "The histogram shows that, salary's distribution is highly skewed, which increased the difficulty on regression. So I need to apply the log transformation on the target value."
   ]
  },
  {
   "cell_type": "code",
   "execution_count": 21,
   "metadata": {},
   "outputs": [
    {
     "data": {
      "text/plain": [
       "<matplotlib.axes._subplots.AxesSubplot at 0x7fd223e06be0>"
      ]
     },
     "execution_count": 21,
     "metadata": {},
     "output_type": "execute_result"
    },
    {
     "data": {
      "image/png": "[encoded data removed]",
      "text/plain": [
       "<Figure size 432x288 with 1 Axes>"
      ]
     },
     "metadata": {},
     "output_type": "display_data"
    }
   ],
   "source": [
    "X['salary'] = np.log(X.salary)\n",
    "X.salary.hist(bins=50)"
   ]
  },
  {
   "cell_type": "code",
   "execution_count": 22,
   "metadata": {},
   "outputs": [
    {
     "data": {
      "text/html": [
       "<div>\n",
       "<style scoped>\n",
       "    .dataframe tbody tr th:only-of-type {\n",
       "        vertical-align: middle;\n",
       "    }\n",
       "\n",
       "    .dataframe tbody tr th {\n",
       "        vertical-align: top;\n",
       "    }\n",
       "\n",
       "    .dataframe thead th {\n",
       "        text-align: right;\n",
       "    }\n",
       "</style>\n",
       "<table border=\"1\" class=\"dataframe\">\n",
       "  <thead>\n",
       "    <tr style=\"text-align: right;\">\n",
       "      <th></th>\n",
       "      <th>level</th>\n",
       "      <th>number</th>\n",
       "      <th>signing_bonus</th>\n",
       "      <th>salary</th>\n",
       "      <th>yrs_experience</th>\n",
       "      <th>is_male</th>\n",
       "      <th>degree</th>\n",
       "      <th>dept_HR</th>\n",
       "      <th>dept_engineering</th>\n",
       "      <th>dept_marketing</th>\n",
       "      <th>dept_sales</th>\n",
       "    </tr>\n",
       "    <tr>\n",
       "      <th>employee_id</th>\n",
       "      <th></th>\n",
       "      <th></th>\n",
       "      <th></th>\n",
       "      <th></th>\n",
       "      <th></th>\n",
       "      <th></th>\n",
       "      <th></th>\n",
       "      <th></th>\n",
       "      <th></th>\n",
       "      <th></th>\n",
       "      <th></th>\n",
       "    </tr>\n",
       "  </thead>\n",
       "  <tbody>\n",
       "    <tr>\n",
       "      <th>46456</th>\n",
       "      <td>0</td>\n",
       "      <td>0.0</td>\n",
       "      <td>0</td>\n",
       "      <td>5.361292</td>\n",
       "      <td>5</td>\n",
       "      <td>1</td>\n",
       "      <td>1</td>\n",
       "      <td>0</td>\n",
       "      <td>0</td>\n",
       "      <td>0</td>\n",
       "      <td>1</td>\n",
       "    </tr>\n",
       "    <tr>\n",
       "      <th>104708</th>\n",
       "      <td>0</td>\n",
       "      <td>0.0</td>\n",
       "      <td>0</td>\n",
       "      <td>4.369448</td>\n",
       "      <td>3</td>\n",
       "      <td>0</td>\n",
       "      <td>1</td>\n",
       "      <td>1</td>\n",
       "      <td>0</td>\n",
       "      <td>0</td>\n",
       "      <td>0</td>\n",
       "    </tr>\n",
       "    <tr>\n",
       "      <th>120853</th>\n",
       "      <td>0</td>\n",
       "      <td>0.0</td>\n",
       "      <td>0</td>\n",
       "      <td>5.293305</td>\n",
       "      <td>5</td>\n",
       "      <td>1</td>\n",
       "      <td>0</td>\n",
       "      <td>0</td>\n",
       "      <td>0</td>\n",
       "      <td>0</td>\n",
       "      <td>1</td>\n",
       "    </tr>\n",
       "    <tr>\n",
       "      <th>142630</th>\n",
       "      <td>1</td>\n",
       "      <td>16.0</td>\n",
       "      <td>0</td>\n",
       "      <td>4.962845</td>\n",
       "      <td>13</td>\n",
       "      <td>0</td>\n",
       "      <td>3</td>\n",
       "      <td>1</td>\n",
       "      <td>0</td>\n",
       "      <td>0</td>\n",
       "      <td>0</td>\n",
       "    </tr>\n",
       "    <tr>\n",
       "      <th>72711</th>\n",
       "      <td>0</td>\n",
       "      <td>0.0</td>\n",
       "      <td>0</td>\n",
       "      <td>5.459586</td>\n",
       "      <td>1</td>\n",
       "      <td>1</td>\n",
       "      <td>2</td>\n",
       "      <td>0</td>\n",
       "      <td>0</td>\n",
       "      <td>0</td>\n",
       "      <td>1</td>\n",
       "    </tr>\n",
       "  </tbody>\n",
       "</table>\n",
       "</div>"
      ],
      "text/plain": [
       "             level  number  signing_bonus    salary  yrs_experience  is_male  \\\n",
       "employee_id                                                                    \n",
       "46456            0     0.0              0  5.361292               5        1   \n",
       "104708           0     0.0              0  4.369448               3        0   \n",
       "120853           0     0.0              0  5.293305               5        1   \n",
       "142630           1    16.0              0  4.962845              13        0   \n",
       "72711            0     0.0              0  5.459586               1        1   \n",
       "\n",
       "             degree  dept_HR  dept_engineering  dept_marketing  dept_sales  \n",
       "employee_id                                                                 \n",
       "46456             1        0                 0               0           1  \n",
       "104708            1        1                 0               0           0  \n",
       "120853            0        0                 0               0           1  \n",
       "142630            3        1                 0               0           0  \n",
       "72711             2        0                 0               0           1  "
      ]
     },
     "execution_count": 22,
     "metadata": {},
     "output_type": "execute_result"
    }
   ],
   "source": [
    "X = X.set_index('employee_id')\n",
    "\n",
    "X.head()# glance the data"
   ]
  },
  {
   "cell_type": "code",
   "execution_count": 23,
   "metadata": {},
   "outputs": [
    {
     "data": {
      "text/html": [
       "<div>\n",
       "<style scoped>\n",
       "    .dataframe tbody tr th:only-of-type {\n",
       "        vertical-align: middle;\n",
       "    }\n",
       "\n",
       "    .dataframe tbody tr th {\n",
       "        vertical-align: top;\n",
       "    }\n",
       "\n",
       "    .dataframe thead th {\n",
       "        text-align: right;\n",
       "    }\n",
       "</style>\n",
       "<table border=\"1\" class=\"dataframe\">\n",
       "  <thead>\n",
       "    <tr style=\"text-align: right;\">\n",
       "      <th></th>\n",
       "      <th>count</th>\n",
       "      <th>mean</th>\n",
       "    </tr>\n",
       "    <tr>\n",
       "      <th>level</th>\n",
       "      <th></th>\n",
       "      <th></th>\n",
       "    </tr>\n",
       "  </thead>\n",
       "  <tbody>\n",
       "    <tr>\n",
       "      <th>0</th>\n",
       "      <td>9000</td>\n",
       "      <td>5.112835</td>\n",
       "    </tr>\n",
       "    <tr>\n",
       "      <th>1</th>\n",
       "      <td>800</td>\n",
       "      <td>5.136089</td>\n",
       "    </tr>\n",
       "    <tr>\n",
       "      <th>2</th>\n",
       "      <td>160</td>\n",
       "      <td>5.256181</td>\n",
       "    </tr>\n",
       "    <tr>\n",
       "      <th>3</th>\n",
       "      <td>35</td>\n",
       "      <td>5.496709</td>\n",
       "    </tr>\n",
       "    <tr>\n",
       "      <th>4</th>\n",
       "      <td>4</td>\n",
       "      <td>6.327854</td>\n",
       "    </tr>\n",
       "    <tr>\n",
       "      <th>5</th>\n",
       "      <td>1</td>\n",
       "      <td>6.551080</td>\n",
       "    </tr>\n",
       "  </tbody>\n",
       "</table>\n",
       "</div>"
      ],
      "text/plain": [
       "       count      mean\n",
       "level                 \n",
       "0       9000  5.112835\n",
       "1        800  5.136089\n",
       "2        160  5.256181\n",
       "3         35  5.496709\n",
       "4          4  6.327854\n",
       "5          1  6.551080"
      ]
     },
     "execution_count": 23,
     "metadata": {},
     "output_type": "execute_result"
    }
   ],
   "source": [
    "X.groupby('level')['salary'].agg(['count','mean'])"
   ]
  },
  {
   "cell_type": "markdown",
   "metadata": {},
   "source": [
    "From the table above, we can see there is only one CEO, and his salary is much higher than any other employees in this company.\n",
    "\n",
    "When splitting the data into training/test sets, no matter which set contains CEO, his high salary will impact significantly the training or evaluation. Therefore, CEO data is an outlier and has to be removed from the dataset."
   ]
  },
  {
   "cell_type": "code",
   "execution_count": 24,
   "metadata": {},
   "outputs": [],
   "source": [
    "#Remove Outliers:\n",
    "X = X.loc[X.level != 5,:]"
   ]
  },
  {
   "cell_type": "markdown",
   "metadata": {},
   "source": [
    "#### 3.3 Create the model based on train and test dataset"
   ]
  },
  {
   "cell_type": "code",
   "execution_count": 25,
   "metadata": {},
   "outputs": [],
   "source": [
    "y = X['salary']\n",
    "del X['salary']"
   ]
  },
  {
   "cell_type": "code",
   "execution_count": 26,
   "metadata": {},
   "outputs": [],
   "source": [
    "seed = 999\n",
    "Xtrain,Xtest,ytrain,ytest = train_test_split(X,y,test_size=0.3,random_state=seed)"
   ]
  },
  {
   "cell_type": "code",
   "execution_count": 27,
   "metadata": {},
   "outputs": [
    {
     "data": {
      "text/plain": [
       "0    6306\n",
       "1     554\n",
       "2     108\n",
       "3      27\n",
       "4       4\n",
       "Name: level, dtype: int64"
      ]
     },
     "execution_count": 27,
     "metadata": {},
     "output_type": "execute_result"
    }
   ],
   "source": [
    "Xtrain.level.value_counts()"
   ]
  },
  {
   "cell_type": "code",
   "execution_count": 28,
   "metadata": {},
   "outputs": [
    {
     "data": {
      "text/plain": [
       "0    2694\n",
       "1     246\n",
       "2      52\n",
       "3       8\n",
       "Name: level, dtype: int64"
      ]
     },
     "execution_count": 28,
     "metadata": {},
     "output_type": "execute_result"
    }
   ],
   "source": [
    "Xtest.level.value_counts()"
   ]
  },
  {
   "cell_type": "code",
   "execution_count": 29,
   "metadata": {},
   "outputs": [],
   "source": [
    "train_matrix = xgb.DMatrix(Xtrain,ytrain)\n",
    "test_matrix = xgb.DMatrix(Xtest)"
   ]
  },
  {
   "cell_type": "code",
   "execution_count": 30,
   "metadata": {},
   "outputs": [
    {
     "name": "stdout",
     "output_type": "stream",
     "text": [
      "[11:05:36] WARNING: /opt/concourse/worker/volumes/live/7a2b9f41-3287-451b-6691-43e9a6c0910f/volume/xgboost-split_1619728204606/work/src/objective/regression_obj.cu:170: reg:linear is now deprecated in favor of reg:squarederror.\n",
      "[11:05:36] WARNING: /opt/concourse/worker/volumes/live/7a2b9f41-3287-451b-6691-43e9a6c0910f/volume/xgboost-split_1619728204606/work/src/learner.cc:541: \n",
      "Parameters: { early_stopping_rounds, num_rounds, silent } might not be used.\n",
      "\n",
      "  This may not be accurate due to some parameters are only used in language bindings but\n",
      "  passed down to XGBoost core.  Or some parameters are not used but slip through this\n",
      "  verification. Please open an issue if you find above cases.\n",
      "\n",
      "\n",
      "[11:05:36] WARNING: /opt/concourse/worker/volumes/live/7a2b9f41-3287-451b-6691-43e9a6c0910f/volume/xgboost-split_1619728204606/work/src/objective/regression_obj.cu:170: reg:linear is now deprecated in favor of reg:squarederror.\n",
      "[11:05:36] WARNING: /opt/concourse/worker/volumes/live/7a2b9f41-3287-451b-6691-43e9a6c0910f/volume/xgboost-split_1619728204606/work/src/learner.cc:541: \n",
      "Parameters: { early_stopping_rounds, num_rounds, silent } might not be used.\n",
      "\n",
      "  This may not be accurate due to some parameters are only used in language bindings but\n",
      "  passed down to XGBoost core.  Or some parameters are not used but slip through this\n",
      "  verification. Please open an issue if you find above cases.\n",
      "\n",
      "\n",
      "[11:05:36] WARNING: /opt/concourse/worker/volumes/live/7a2b9f41-3287-451b-6691-43e9a6c0910f/volume/xgboost-split_1619728204606/work/src/objective/regression_obj.cu:170: reg:linear is now deprecated in favor of reg:squarederror.\n",
      "[11:05:36] WARNING: /opt/concourse/worker/volumes/live/7a2b9f41-3287-451b-6691-43e9a6c0910f/volume/xgboost-split_1619728204606/work/src/learner.cc:541: \n",
      "Parameters: { early_stopping_rounds, num_rounds, silent } might not be used.\n",
      "\n",
      "  This may not be accurate due to some parameters are only used in language bindings but\n",
      "  passed down to XGBoost core.  Or some parameters are not used but slip through this\n",
      "  verification. Please open an issue if you find above cases.\n",
      "\n",
      "\n",
      "[11:05:36] WARNING: /opt/concourse/worker/volumes/live/7a2b9f41-3287-451b-6691-43e9a6c0910f/volume/xgboost-split_1619728204606/work/src/objective/regression_obj.cu:170: reg:linear is now deprecated in favor of reg:squarederror.\n",
      "[11:05:36] WARNING: /opt/concourse/worker/volumes/live/7a2b9f41-3287-451b-6691-43e9a6c0910f/volume/xgboost-split_1619728204606/work/src/learner.cc:541: \n",
      "Parameters: { early_stopping_rounds, num_rounds, silent } might not be used.\n",
      "\n",
      "  This may not be accurate due to some parameters are only used in language bindings but\n",
      "  passed down to XGBoost core.  Or some parameters are not used but slip through this\n",
      "  verification. Please open an issue if you find above cases.\n",
      "\n",
      "\n",
      "[11:05:36] WARNING: /opt/concourse/worker/volumes/live/7a2b9f41-3287-451b-6691-43e9a6c0910f/volume/xgboost-split_1619728204606/work/src/objective/regression_obj.cu:170: reg:linear is now deprecated in favor of reg:squarederror.\n",
      "[11:05:36] WARNING: /opt/concourse/worker/volumes/live/7a2b9f41-3287-451b-6691-43e9a6c0910f/volume/xgboost-split_1619728204606/work/src/learner.cc:541: \n",
      "Parameters: { early_stopping_rounds, num_rounds, silent } might not be used.\n",
      "\n",
      "  This may not be accurate due to some parameters are only used in language bindings but\n",
      "  passed down to XGBoost core.  Or some parameters are not used but slip through this\n",
      "  verification. Please open an issue if you find above cases.\n",
      "\n",
      "\n",
      "[0]\ttrain-rmse:4.18612+0.00372\ttest-rmse:4.18610+0.01499\n",
      "[1]\ttrain-rmse:3.77153+0.00333\ttest-rmse:3.77156+0.01413\n",
      "[2]\ttrain-rmse:3.39905+0.00276\ttest-rmse:3.39922+0.01380\n",
      "[3]\ttrain-rmse:3.06438+0.00245\ttest-rmse:3.06465+0.01348\n",
      "[4]\ttrain-rmse:2.76345+0.00213\ttest-rmse:2.76366+0.01292\n",
      "[5]\ttrain-rmse:2.49327+0.00183\ttest-rmse:2.49358+0.01288\n",
      "[6]\ttrain-rmse:2.25059+0.00168\ttest-rmse:2.25087+0.01241\n",
      "[7]\ttrain-rmse:2.03275+0.00134\ttest-rmse:2.03301+0.01205\n",
      "[8]\ttrain-rmse:1.83756+0.00121\ttest-rmse:1.83783+0.01160\n",
      "[9]\ttrain-rmse:1.66270+0.00110\ttest-rmse:1.66290+0.01116\n",
      "[10]\ttrain-rmse:1.50611+0.00092\ttest-rmse:1.50635+0.01099\n",
      "[11]\ttrain-rmse:1.36640+0.00085\ttest-rmse:1.36663+0.01064\n",
      "[12]\ttrain-rmse:1.24149+0.00084\ttest-rmse:1.24169+0.01039\n",
      "[13]\ttrain-rmse:1.13023+0.00071\ttest-rmse:1.13044+0.01001\n",
      "[14]\ttrain-rmse:1.03140+0.00068\ttest-rmse:1.03166+0.00998\n",
      "[15]\ttrain-rmse:0.94353+0.00064\ttest-rmse:0.94381+0.00976\n",
      "[16]\ttrain-rmse:0.86609+0.00079\ttest-rmse:0.86640+0.00949\n",
      "[17]\ttrain-rmse:0.79786+0.00086\ttest-rmse:0.79829+0.00928\n",
      "[18]\ttrain-rmse:0.73777+0.00102\ttest-rmse:0.73838+0.00934\n",
      "[19]\ttrain-rmse:0.68549+0.00090\ttest-rmse:0.68648+0.00939\n",
      "[20]\ttrain-rmse:0.63972+0.00092\ttest-rmse:0.64103+0.00928\n",
      "[21]\ttrain-rmse:0.59976+0.00092\ttest-rmse:0.60140+0.00909\n",
      "[22]\ttrain-rmse:0.56541+0.00084\ttest-rmse:0.56749+0.00915\n",
      "[23]\ttrain-rmse:0.53594+0.00093\ttest-rmse:0.53831+0.00895\n",
      "[24]\ttrain-rmse:0.51077+0.00101\ttest-rmse:0.51363+0.00855\n",
      "[25]\ttrain-rmse:0.48941+0.00105\ttest-rmse:0.49273+0.00835\n",
      "[26]\ttrain-rmse:0.47135+0.00105\ttest-rmse:0.47515+0.00832\n",
      "[27]\ttrain-rmse:0.45592+0.00098\ttest-rmse:0.46004+0.00819\n",
      "[28]\ttrain-rmse:0.44311+0.00095\ttest-rmse:0.44757+0.00801\n",
      "[29]\ttrain-rmse:0.43254+0.00091\ttest-rmse:0.43742+0.00786\n",
      "[30]\ttrain-rmse:0.42354+0.00092\ttest-rmse:0.42891+0.00765\n",
      "[31]\ttrain-rmse:0.41598+0.00102\ttest-rmse:0.42172+0.00737\n",
      "[32]\ttrain-rmse:0.40978+0.00091\ttest-rmse:0.41589+0.00723\n",
      "[33]\ttrain-rmse:0.40455+0.00094\ttest-rmse:0.41098+0.00699\n",
      "[34]\ttrain-rmse:0.40033+0.00092\ttest-rmse:0.40707+0.00677\n",
      "[35]\ttrain-rmse:0.39683+0.00095\ttest-rmse:0.40390+0.00652\n",
      "[36]\ttrain-rmse:0.39396+0.00096\ttest-rmse:0.40130+0.00634\n",
      "[37]\ttrain-rmse:0.39143+0.00096\ttest-rmse:0.39925+0.00620\n",
      "[38]\ttrain-rmse:0.38940+0.00099\ttest-rmse:0.39754+0.00617\n",
      "[39]\ttrain-rmse:0.38770+0.00100\ttest-rmse:0.39628+0.00595\n",
      "[40]\ttrain-rmse:0.38629+0.00097\ttest-rmse:0.39517+0.00582\n",
      "[41]\ttrain-rmse:0.38497+0.00085\ttest-rmse:0.39421+0.00586\n",
      "[42]\ttrain-rmse:0.38393+0.00085\ttest-rmse:0.39354+0.00580\n",
      "[43]\ttrain-rmse:0.38304+0.00091\ttest-rmse:0.39294+0.00580\n",
      "[44]\ttrain-rmse:0.38209+0.00097\ttest-rmse:0.39253+0.00559\n",
      "[45]\ttrain-rmse:0.38141+0.00092\ttest-rmse:0.39211+0.00554\n",
      "[46]\ttrain-rmse:0.38078+0.00095\ttest-rmse:0.39187+0.00544\n",
      "[47]\ttrain-rmse:0.38029+0.00099\ttest-rmse:0.39168+0.00542\n",
      "[48]\ttrain-rmse:0.37972+0.00088\ttest-rmse:0.39152+0.00535\n",
      "[49]\ttrain-rmse:0.37926+0.00089\ttest-rmse:0.39141+0.00527\n",
      "[50]\ttrain-rmse:0.37890+0.00088\ttest-rmse:0.39137+0.00524\n",
      "[51]\ttrain-rmse:0.37861+0.00087\ttest-rmse:0.39130+0.00528\n",
      "[52]\ttrain-rmse:0.37826+0.00083\ttest-rmse:0.39136+0.00520\n",
      "[53]\ttrain-rmse:0.37785+0.00080\ttest-rmse:0.39137+0.00524\n",
      "[54]\ttrain-rmse:0.37754+0.00089\ttest-rmse:0.39136+0.00525\n",
      "[55]\ttrain-rmse:0.37718+0.00096\ttest-rmse:0.39137+0.00515\n",
      "[56]\ttrain-rmse:0.37676+0.00102\ttest-rmse:0.39153+0.00522\n",
      "[57]\ttrain-rmse:0.37634+0.00105\ttest-rmse:0.39155+0.00525\n",
      "[58]\ttrain-rmse:0.37605+0.00097\ttest-rmse:0.39160+0.00527\n",
      "[59]\ttrain-rmse:0.37571+0.00105\ttest-rmse:0.39163+0.00537\n",
      "[60]\ttrain-rmse:0.37540+0.00105\ttest-rmse:0.39165+0.00533\n",
      "[61]\ttrain-rmse:0.37507+0.00109\ttest-rmse:0.39179+0.00541\n",
      "[62]\ttrain-rmse:0.37478+0.00111\ttest-rmse:0.39185+0.00538\n",
      "[63]\ttrain-rmse:0.37450+0.00114\ttest-rmse:0.39202+0.00544\n",
      "[64]\ttrain-rmse:0.37418+0.00123\ttest-rmse:0.39211+0.00542\n",
      "[65]\ttrain-rmse:0.37388+0.00124\ttest-rmse:0.39224+0.00548\n",
      "[66]\ttrain-rmse:0.37368+0.00129\ttest-rmse:0.39227+0.00537\n",
      "[67]\ttrain-rmse:0.37348+0.00129\ttest-rmse:0.39234+0.00531\n",
      "[68]\ttrain-rmse:0.37319+0.00131\ttest-rmse:0.39238+0.00528\n",
      "[69]\ttrain-rmse:0.37292+0.00129\ttest-rmse:0.39244+0.00529\n",
      "[70]\ttrain-rmse:0.37267+0.00129\ttest-rmse:0.39258+0.00517\n",
      "[71]\ttrain-rmse:0.37248+0.00126\ttest-rmse:0.39263+0.00511\n",
      "[72]\ttrain-rmse:0.37230+0.00122\ttest-rmse:0.39272+0.00501\n",
      "[73]\ttrain-rmse:0.37203+0.00115\ttest-rmse:0.39276+0.00506\n",
      "[74]\ttrain-rmse:0.37184+0.00121\ttest-rmse:0.39288+0.00507\n",
      "[75]\ttrain-rmse:0.37162+0.00110\ttest-rmse:0.39292+0.00512\n",
      "[76]\ttrain-rmse:0.37141+0.00113\ttest-rmse:0.39300+0.00512\n",
      "[77]\ttrain-rmse:0.37117+0.00108\ttest-rmse:0.39311+0.00511\n",
      "[78]\ttrain-rmse:0.37092+0.00112\ttest-rmse:0.39315+0.00503\n",
      "[79]\ttrain-rmse:0.37073+0.00115\ttest-rmse:0.39329+0.00507\n",
      "[80]\ttrain-rmse:0.37051+0.00118\ttest-rmse:0.39330+0.00509\n",
      "[81]\ttrain-rmse:0.37029+0.00122\ttest-rmse:0.39346+0.00504\n"
     ]
    }
   ],
   "source": [
    "params = {}\n",
    "params['silent'] = 1\n",
    "params['objective'] = 'reg:linear'\n",
    "params['eval_metric'] = 'rmse'\n",
    "params[\"num_rounds\"] = 300\n",
    "params[\"early_stopping_rounds\"] = 30\n",
    "# params['min_child_weight'] = 2\n",
    "# params['max_depth'] = 6\n",
    "params['eta'] = 0.1\n",
    "params[\"subsample\"] = 0.8\n",
    "params[\"colsample_bytree\"] = 0.8\n",
    "\n",
    "cv_results = xgb.cv(params,train_matrix,\n",
    "                    num_boost_round = params[\"num_rounds\"],\n",
    "                    nfold = params.get('nfold',5),\n",
    "                    metrics = params['eval_metric'],\n",
    "                    early_stopping_rounds = params[\"early_stopping_rounds\"],\n",
    "                    verbose_eval = True,\n",
    "                    seed = seed)"
   ]
  },
  {
   "cell_type": "code",
   "execution_count": 31,
   "metadata": {},
   "outputs": [
    {
     "data": {
      "text/plain": [
       "52"
      ]
     },
     "execution_count": 31,
     "metadata": {},
     "output_type": "execute_result"
    }
   ],
   "source": [
    "n_best_trees = cv_results.shape[0]\n",
    "n_best_trees"
   ]
  },
  {
   "cell_type": "code",
   "execution_count": 32,
   "metadata": {},
   "outputs": [
    {
     "name": "stdout",
     "output_type": "stream",
     "text": [
      "[11:05:41] WARNING: /opt/concourse/worker/volumes/live/7a2b9f41-3287-451b-6691-43e9a6c0910f/volume/xgboost-split_1619728204606/work/src/objective/regression_obj.cu:170: reg:linear is now deprecated in favor of reg:squarederror.\n",
      "[11:05:41] WARNING: /opt/concourse/worker/volumes/live/7a2b9f41-3287-451b-6691-43e9a6c0910f/volume/xgboost-split_1619728204606/work/src/learner.cc:541: \n",
      "Parameters: { early_stopping_rounds, num_rounds, silent } might not be used.\n",
      "\n",
      "  This may not be accurate due to some parameters are only used in language bindings but\n",
      "  passed down to XGBoost core.  Or some parameters are not used but slip through this\n",
      "  verification. Please open an issue if you find above cases.\n",
      "\n",
      "\n",
      "[0]\ttrain-rmse:4.18590\n",
      "[1]\ttrain-rmse:3.77087\n",
      "[2]\ttrain-rmse:3.39827\n",
      "[3]\ttrain-rmse:3.06284\n",
      "[4]\ttrain-rmse:2.76207\n",
      "[5]\ttrain-rmse:2.49109\n",
      "[6]\ttrain-rmse:2.24856\n",
      "[7]\ttrain-rmse:2.03050\n",
      "[8]\ttrain-rmse:1.83545\n",
      "[9]\ttrain-rmse:1.66047\n",
      "[10]\ttrain-rmse:1.50405\n",
      "[11]\ttrain-rmse:1.36431\n",
      "[12]\ttrain-rmse:1.24021\n",
      "[13]\ttrain-rmse:1.12883\n",
      "[14]\ttrain-rmse:1.03021\n",
      "[15]\ttrain-rmse:0.94240\n",
      "[16]\ttrain-rmse:0.86485\n",
      "[17]\ttrain-rmse:0.79646\n",
      "[18]\ttrain-rmse:0.73662\n",
      "[19]\ttrain-rmse:0.68403\n",
      "[20]\ttrain-rmse:0.63859\n",
      "[21]\ttrain-rmse:0.59928\n",
      "[22]\ttrain-rmse:0.56537\n",
      "[23]\ttrain-rmse:0.53606\n",
      "[24]\ttrain-rmse:0.51099\n",
      "[25]\ttrain-rmse:0.48934\n",
      "[26]\ttrain-rmse:0.47125\n",
      "[27]\ttrain-rmse:0.45589\n",
      "[28]\ttrain-rmse:0.44320\n",
      "[29]\ttrain-rmse:0.43248\n",
      "[30]\ttrain-rmse:0.42348\n",
      "[31]\ttrain-rmse:0.41610\n",
      "[32]\ttrain-rmse:0.41007\n",
      "[33]\ttrain-rmse:0.40498\n",
      "[34]\ttrain-rmse:0.40091\n",
      "[35]\ttrain-rmse:0.39746\n",
      "[36]\ttrain-rmse:0.39471\n",
      "[37]\ttrain-rmse:0.39224\n",
      "[38]\ttrain-rmse:0.39032\n",
      "[39]\ttrain-rmse:0.38867\n",
      "[40]\ttrain-rmse:0.38740\n",
      "[41]\ttrain-rmse:0.38623\n",
      "[42]\ttrain-rmse:0.38516\n",
      "[43]\ttrain-rmse:0.38430\n",
      "[44]\ttrain-rmse:0.38361\n",
      "[45]\ttrain-rmse:0.38295\n",
      "[46]\ttrain-rmse:0.38239\n",
      "[47]\ttrain-rmse:0.38192\n",
      "[48]\ttrain-rmse:0.38142\n",
      "[49]\ttrain-rmse:0.38097\n",
      "[50]\ttrain-rmse:0.38062\n",
      "[51]\ttrain-rmse:0.38035\n"
     ]
    }
   ],
   "source": [
    "# re-train on all the data\n",
    "watchlist = [(train_matrix, 'train')]\n",
    "gbt = xgb.train(params, train_matrix, n_best_trees,watchlist)"
   ]
  },
  {
   "cell_type": "markdown",
   "metadata": {},
   "source": [
    "#### 3.4 Evaluate the model results"
   ]
  },
  {
   "cell_type": "code",
   "execution_count": 33,
   "metadata": {},
   "outputs": [
    {
     "data": {
      "text/plain": [
       "0.39662229125979864"
      ]
     },
     "execution_count": 33,
     "metadata": {},
     "output_type": "execute_result"
    }
   ],
   "source": [
    "ytest_pred = gbt.predict(test_matrix, ntree_limit=n_best_trees)\n",
    "np.sqrt(mean_squared_error(ytest,ytest_pred))"
   ]
  },
  {
   "cell_type": "markdown",
   "metadata": {},
   "source": [
    "The training RMSE is 0.38, and test set has RMSE 0.39, the difference isn't very high."
   ]
  },
  {
   "cell_type": "code",
   "execution_count": 34,
   "metadata": {},
   "outputs": [
    {
     "data": {
      "text/plain": [
       "<matplotlib.axes._subplots.AxesSubplot at 0x7fd2241bb828>"
      ]
     },
     "execution_count": 34,
     "metadata": {},
     "output_type": "execute_result"
    },
    {
     "data": {
      "image/png": "[encoded data removed]",
      "text/plain": [
       "<Figure size 432x288 with 1 Axes>"
      ]
     },
     "metadata": {},
     "output_type": "display_data"
    }
   ],
   "source": [
    "# check residual's distribution\n",
    "(ytest - ytest_pred).hist(bins=60)"
   ]
  },
  {
   "cell_type": "markdown",
   "metadata": {},
   "source": [
    "The histogram shows that the residuals' distribution is nearly normal, although a little skewed. Hence, the trained model is acceptable."
   ]
  },
  {
   "cell_type": "code",
   "execution_count": 35,
   "metadata": {},
   "outputs": [],
   "source": [
    "gbt.save_model('gbt.model')"
   ]
  },
  {
   "cell_type": "markdown",
   "metadata": {},
   "source": [
    "### 4. Describe the main factors impacting employee salaries"
   ]
  },
  {
   "cell_type": "markdown",
   "metadata": {},
   "source": [
    "__LOGIC:__ <br>\n",
    "- Use xgboost importance to retrieve the highly important features influencing employees' salary\n",
    "- Use the xgboost model to predict each employee's predicted salary based on their features and then compare the predicted salary with their actual salary to see if they have been overpaid or not"
   ]
  },
  {
   "cell_type": "code",
   "execution_count": 36,
   "metadata": {},
   "outputs": [
    {
     "data": {
      "text/plain": [
       "<matplotlib.axes._subplots.AxesSubplot at 0x7fd22547aef0>"
      ]
     },
     "execution_count": 36,
     "metadata": {},
     "output_type": "execute_result"
    },
    {
     "data": {
      "image/png": "[encoded data removed]",
      "text/plain": [
       "<Figure size 432x288 with 1 Axes>"
      ]
     },
     "metadata": {},
     "output_type": "display_data"
    }
   ],
   "source": [
    "xgb.plot_importance(gbt)"
   ]
  },
  {
   "cell_type": "markdown",
   "metadata": {},
   "source": [
    "From above plot of feature importance, we can see the main factors impacting salaries includes:\n",
    "\n",
    "- \"years of experience\". this is fair, more experienced deserve high salary\n",
    "- 'n_subordinates'. #subordinates has some relationship with level.  Employees are more likely to get higher salary when he/she has more subordinates"
   ]
  },
  {
   "cell_type": "code",
   "execution_count": 37,
   "metadata": {},
   "outputs": [],
   "source": [
    "# predict on all data (except CEO) and calculate the bias\n",
    "whole_matrix = xgb.DMatrix(X)\n",
    "ypred = gbt.predict(whole_matrix)\n",
    "\n",
    "# since our prediction is log(salary), so we need to exp it to get the original salary (unit: k)\n",
    "predresult = pd.DataFrame({'ytrue': np.exp(y),'ypred': np.exp(ypred)})\n",
    "\n",
    "# if bias >0, means, that employee is over paid\n",
    "# otherwise, bias<0, means that employee is under paid\n",
    "predresult['bias'] = predresult.ytrue - predresult.ypred"
   ]
  },
  {
   "cell_type": "code",
   "execution_count": 38,
   "metadata": {},
   "outputs": [
    {
     "name": "stdout",
     "output_type": "stream",
     "text": [
      "(9999, 3)\n"
     ]
    },
    {
     "data": {
      "text/html": [
       "<div>\n",
       "<style scoped>\n",
       "    .dataframe tbody tr th:only-of-type {\n",
       "        vertical-align: middle;\n",
       "    }\n",
       "\n",
       "    .dataframe tbody tr th {\n",
       "        vertical-align: top;\n",
       "    }\n",
       "\n",
       "    .dataframe thead th {\n",
       "        text-align: right;\n",
       "    }\n",
       "</style>\n",
       "<table border=\"1\" class=\"dataframe\">\n",
       "  <thead>\n",
       "    <tr style=\"text-align: right;\">\n",
       "      <th></th>\n",
       "      <th>ytrue</th>\n",
       "      <th>ypred</th>\n",
       "      <th>bias</th>\n",
       "    </tr>\n",
       "    <tr>\n",
       "      <th>employee_id</th>\n",
       "      <th></th>\n",
       "      <th></th>\n",
       "      <th></th>\n",
       "    </tr>\n",
       "  </thead>\n",
       "  <tbody>\n",
       "    <tr>\n",
       "      <th>46456</th>\n",
       "      <td>213.0</td>\n",
       "      <td>177.610519</td>\n",
       "      <td>35.389481</td>\n",
       "    </tr>\n",
       "    <tr>\n",
       "      <th>104708</th>\n",
       "      <td>79.0</td>\n",
       "      <td>80.504051</td>\n",
       "      <td>-1.504051</td>\n",
       "    </tr>\n",
       "    <tr>\n",
       "      <th>120853</th>\n",
       "      <td>199.0</td>\n",
       "      <td>177.410675</td>\n",
       "      <td>21.589325</td>\n",
       "    </tr>\n",
       "    <tr>\n",
       "      <th>142630</th>\n",
       "      <td>143.0</td>\n",
       "      <td>99.492989</td>\n",
       "      <td>43.507011</td>\n",
       "    </tr>\n",
       "    <tr>\n",
       "      <th>72711</th>\n",
       "      <td>235.0</td>\n",
       "      <td>179.232178</td>\n",
       "      <td>55.767822</td>\n",
       "    </tr>\n",
       "  </tbody>\n",
       "</table>\n",
       "</div>"
      ],
      "text/plain": [
       "             ytrue       ypred       bias\n",
       "employee_id                              \n",
       "46456        213.0  177.610519  35.389481\n",
       "104708        79.0   80.504051  -1.504051\n",
       "120853       199.0  177.410675  21.589325\n",
       "142630       143.0   99.492989  43.507011\n",
       "72711        235.0  179.232178  55.767822"
      ]
     },
     "execution_count": 38,
     "metadata": {},
     "output_type": "execute_result"
    }
   ],
   "source": [
    "sh(predresult)"
   ]
  },
  {
   "cell_type": "code",
   "execution_count": 39,
   "metadata": {},
   "outputs": [
    {
     "name": "stdout",
     "output_type": "stream",
     "text": [
      "(10000, 9)\n"
     ]
    },
    {
     "data": {
      "text/html": [
       "<div>\n",
       "<style scoped>\n",
       "    .dataframe tbody tr th:only-of-type {\n",
       "        vertical-align: middle;\n",
       "    }\n",
       "\n",
       "    .dataframe tbody tr th {\n",
       "        vertical-align: top;\n",
       "    }\n",
       "\n",
       "    .dataframe thead th {\n",
       "        text-align: right;\n",
       "    }\n",
       "</style>\n",
       "<table border=\"1\" class=\"dataframe\">\n",
       "  <thead>\n",
       "    <tr style=\"text-align: right;\">\n",
       "      <th></th>\n",
       "      <th>boss_id</th>\n",
       "      <th>dept</th>\n",
       "      <th>level</th>\n",
       "      <th>number</th>\n",
       "      <th>signing_bonus</th>\n",
       "      <th>salary</th>\n",
       "      <th>degree_level</th>\n",
       "      <th>sex</th>\n",
       "      <th>yrs_experience</th>\n",
       "    </tr>\n",
       "    <tr>\n",
       "      <th>employee_id</th>\n",
       "      <th></th>\n",
       "      <th></th>\n",
       "      <th></th>\n",
       "      <th></th>\n",
       "      <th></th>\n",
       "      <th></th>\n",
       "      <th></th>\n",
       "      <th></th>\n",
       "      <th></th>\n",
       "    </tr>\n",
       "  </thead>\n",
       "  <tbody>\n",
       "    <tr>\n",
       "      <th>46456</th>\n",
       "      <td>175361</td>\n",
       "      <td>sales</td>\n",
       "      <td>IC</td>\n",
       "      <td>0.0</td>\n",
       "      <td>0</td>\n",
       "      <td>213.0</td>\n",
       "      <td>Bachelor</td>\n",
       "      <td>M</td>\n",
       "      <td>5</td>\n",
       "    </tr>\n",
       "    <tr>\n",
       "      <th>104708</th>\n",
       "      <td>29733</td>\n",
       "      <td>HR</td>\n",
       "      <td>IC</td>\n",
       "      <td>0.0</td>\n",
       "      <td>0</td>\n",
       "      <td>79.0</td>\n",
       "      <td>Bachelor</td>\n",
       "      <td>F</td>\n",
       "      <td>3</td>\n",
       "    </tr>\n",
       "    <tr>\n",
       "      <th>120853</th>\n",
       "      <td>41991</td>\n",
       "      <td>sales</td>\n",
       "      <td>IC</td>\n",
       "      <td>0.0</td>\n",
       "      <td>0</td>\n",
       "      <td>199.0</td>\n",
       "      <td>High_School</td>\n",
       "      <td>M</td>\n",
       "      <td>5</td>\n",
       "    </tr>\n",
       "    <tr>\n",
       "      <th>142630</th>\n",
       "      <td>171266</td>\n",
       "      <td>HR</td>\n",
       "      <td>MM</td>\n",
       "      <td>16.0</td>\n",
       "      <td>0</td>\n",
       "      <td>143.0</td>\n",
       "      <td>PhD</td>\n",
       "      <td>F</td>\n",
       "      <td>13</td>\n",
       "    </tr>\n",
       "    <tr>\n",
       "      <th>72711</th>\n",
       "      <td>198240</td>\n",
       "      <td>sales</td>\n",
       "      <td>IC</td>\n",
       "      <td>0.0</td>\n",
       "      <td>0</td>\n",
       "      <td>235.0</td>\n",
       "      <td>Master</td>\n",
       "      <td>M</td>\n",
       "      <td>1</td>\n",
       "    </tr>\n",
       "  </tbody>\n",
       "</table>\n",
       "</div>"
      ],
      "text/plain": [
       "             boss_id   dept level  number  signing_bonus  salary degree_level  \\\n",
       "employee_id                                                                     \n",
       "46456         175361  sales    IC     0.0              0   213.0     Bachelor   \n",
       "104708         29733     HR    IC     0.0              0    79.0     Bachelor   \n",
       "120853         41991  sales    IC     0.0              0   199.0  High_School   \n",
       "142630        171266     HR    MM    16.0              0   143.0          PhD   \n",
       "72711         198240  sales    IC     0.0              0   235.0       Master   \n",
       "\n",
       "            sex  yrs_experience  \n",
       "employee_id                      \n",
       "46456         M               5  \n",
       "104708        F               3  \n",
       "120853        M               5  \n",
       "142630        F              13  \n",
       "72711         M               1  "
      ]
     },
     "execution_count": 39,
     "metadata": {},
     "output_type": "execute_result"
    }
   ],
   "source": [
    "df1 = df.set_index('employee_id')\n",
    "sh(df1)"
   ]
  },
  {
   "cell_type": "code",
   "execution_count": 40,
   "metadata": {},
   "outputs": [
    {
     "data": {
      "text/html": [
       "<div>\n",
       "<style scoped>\n",
       "    .dataframe tbody tr th:only-of-type {\n",
       "        vertical-align: middle;\n",
       "    }\n",
       "\n",
       "    .dataframe tbody tr th {\n",
       "        vertical-align: top;\n",
       "    }\n",
       "\n",
       "    .dataframe thead th {\n",
       "        text-align: right;\n",
       "    }\n",
       "</style>\n",
       "<table border=\"1\" class=\"dataframe\">\n",
       "  <thead>\n",
       "    <tr style=\"text-align: right;\">\n",
       "      <th></th>\n",
       "      <th>ytrue</th>\n",
       "      <th>ypred</th>\n",
       "      <th>bias</th>\n",
       "      <th>boss_id</th>\n",
       "      <th>dept</th>\n",
       "      <th>level</th>\n",
       "      <th>number</th>\n",
       "      <th>signing_bonus</th>\n",
       "      <th>salary</th>\n",
       "      <th>degree_level</th>\n",
       "      <th>sex</th>\n",
       "      <th>yrs_experience</th>\n",
       "    </tr>\n",
       "    <tr>\n",
       "      <th>employee_id</th>\n",
       "      <th></th>\n",
       "      <th></th>\n",
       "      <th></th>\n",
       "      <th></th>\n",
       "      <th></th>\n",
       "      <th></th>\n",
       "      <th></th>\n",
       "      <th></th>\n",
       "      <th></th>\n",
       "      <th></th>\n",
       "      <th></th>\n",
       "      <th></th>\n",
       "    </tr>\n",
       "  </thead>\n",
       "  <tbody>\n",
       "    <tr>\n",
       "      <th>46456</th>\n",
       "      <td>213.0</td>\n",
       "      <td>177.610519</td>\n",
       "      <td>35.389481</td>\n",
       "      <td>175361</td>\n",
       "      <td>sales</td>\n",
       "      <td>IC</td>\n",
       "      <td>0.0</td>\n",
       "      <td>0</td>\n",
       "      <td>213.0</td>\n",
       "      <td>Bachelor</td>\n",
       "      <td>M</td>\n",
       "      <td>5</td>\n",
       "    </tr>\n",
       "    <tr>\n",
       "      <th>104708</th>\n",
       "      <td>79.0</td>\n",
       "      <td>80.504051</td>\n",
       "      <td>-1.504051</td>\n",
       "      <td>29733</td>\n",
       "      <td>HR</td>\n",
       "      <td>IC</td>\n",
       "      <td>0.0</td>\n",
       "      <td>0</td>\n",
       "      <td>79.0</td>\n",
       "      <td>Bachelor</td>\n",
       "      <td>F</td>\n",
       "      <td>3</td>\n",
       "    </tr>\n",
       "    <tr>\n",
       "      <th>120853</th>\n",
       "      <td>199.0</td>\n",
       "      <td>177.410675</td>\n",
       "      <td>21.589325</td>\n",
       "      <td>41991</td>\n",
       "      <td>sales</td>\n",
       "      <td>IC</td>\n",
       "      <td>0.0</td>\n",
       "      <td>0</td>\n",
       "      <td>199.0</td>\n",
       "      <td>High_School</td>\n",
       "      <td>M</td>\n",
       "      <td>5</td>\n",
       "    </tr>\n",
       "    <tr>\n",
       "      <th>142630</th>\n",
       "      <td>143.0</td>\n",
       "      <td>99.492989</td>\n",
       "      <td>43.507011</td>\n",
       "      <td>171266</td>\n",
       "      <td>HR</td>\n",
       "      <td>MM</td>\n",
       "      <td>16.0</td>\n",
       "      <td>0</td>\n",
       "      <td>143.0</td>\n",
       "      <td>PhD</td>\n",
       "      <td>F</td>\n",
       "      <td>13</td>\n",
       "    </tr>\n",
       "    <tr>\n",
       "      <th>72711</th>\n",
       "      <td>235.0</td>\n",
       "      <td>179.232178</td>\n",
       "      <td>55.767822</td>\n",
       "      <td>198240</td>\n",
       "      <td>sales</td>\n",
       "      <td>IC</td>\n",
       "      <td>0.0</td>\n",
       "      <td>0</td>\n",
       "      <td>235.0</td>\n",
       "      <td>Master</td>\n",
       "      <td>M</td>\n",
       "      <td>1</td>\n",
       "    </tr>\n",
       "  </tbody>\n",
       "</table>\n",
       "</div>"
      ],
      "text/plain": [
       "             ytrue       ypred       bias  boss_id   dept level  number  \\\n",
       "employee_id                                                               \n",
       "46456        213.0  177.610519  35.389481   175361  sales    IC     0.0   \n",
       "104708        79.0   80.504051  -1.504051    29733     HR    IC     0.0   \n",
       "120853       199.0  177.410675  21.589325    41991  sales    IC     0.0   \n",
       "142630       143.0   99.492989  43.507011   171266     HR    MM    16.0   \n",
       "72711        235.0  179.232178  55.767822   198240  sales    IC     0.0   \n",
       "\n",
       "             signing_bonus  salary degree_level sex  yrs_experience  \n",
       "employee_id                                                          \n",
       "46456                    0   213.0     Bachelor   M               5  \n",
       "104708                   0    79.0     Bachelor   F               3  \n",
       "120853                   0   199.0  High_School   M               5  \n",
       "142630                   0   143.0          PhD   F              13  \n",
       "72711                    0   235.0       Master   M               1  "
      ]
     },
     "execution_count": 40,
     "metadata": {},
     "output_type": "execute_result"
    }
   ],
   "source": [
    "# join with employee's features\n",
    "predresult = predresult.join(df1)\n",
    "predresult.head() # glance"
   ]
  },
  {
   "cell_type": "code",
   "execution_count": 41,
   "metadata": {},
   "outputs": [],
   "source": [
    "del predresult['ytrue'] # redundant with salary"
   ]
  },
  {
   "cell_type": "code",
   "execution_count": 42,
   "metadata": {},
   "outputs": [
    {
     "data": {
      "text/plain": [
       "<matplotlib.axes._subplots.AxesSubplot at 0x7fd223f32940>"
      ]
     },
     "execution_count": 42,
     "metadata": {},
     "output_type": "execute_result"
    },
    {
     "data": {
      "image/png": "[encoded data removed]",
      "text/plain": [
       "<Figure size 432x288 with 1 Axes>"
      ]
     },
     "metadata": {},
     "output_type": "display_data"
    }
   ],
   "source": [
    "predresult.bias.hist(bins=60)"
   ]
  },
  {
   "cell_type": "markdown",
   "metadata": {},
   "source": [
    "Bias is almost normally distributed."
   ]
  },
  {
   "cell_type": "code",
   "execution_count": 43,
   "metadata": {},
   "outputs": [
    {
     "data": {
      "text/plain": [
       "Text(0, 0.5, 'bias')"
      ]
     },
     "execution_count": 43,
     "metadata": {},
     "output_type": "execute_result"
    },
    {
     "data": {
      "image/png": "[encoded data removed]",
      "text/plain": [
       "<Figure size 432x288 with 1 Axes>"
      ]
     },
     "metadata": {},
     "output_type": "display_data"
    }
   ],
   "source": [
    "plt.scatter(predresult.salary,predresult.bias)\n",
    "plt.xlabel(\"true salary\")\n",
    "plt.ylabel(\"bias\")"
   ]
  },
  {
   "cell_type": "markdown",
   "metadata": {},
   "source": [
    "The scatterplot shows that, employee with high salary are more likely to be overpaid."
   ]
  },
  {
   "cell_type": "code",
   "execution_count": 44,
   "metadata": {},
   "outputs": [],
   "source": [
    "def chisquare_test_on_bias():\n",
    "    X = predresult.copy()\n",
    "    del X['ypred']\n",
    "    del X['salary']\n",
    "    del X['boss_id']\n",
    "\n",
    "    X['degree_level'] = X.degree_level.map(degree2index)\n",
    "    X['level'] = X.level.map(level2index)\n",
    "\n",
    "    X['is_male'] = (X.sex == 'M').astype(int)\n",
    "    del X['sex']\n",
    "\n",
    "    dept_lb_encoder = LabelEncoder()\n",
    "    X['dept'] = dept_lb_encoder.fit_transform(X.dept)\n",
    "    \n",
    "    y = (X.bias > 0)\n",
    "    del X['bias']\n",
    "    \n",
    "    scores,pvalues = chi2(X,y)\n",
    "    return pd.DataFrame({'score': scores, 'pvalue': pvalues},index = X.columns).sort_values(by='pvalue')"
   ]
  },
  {
   "cell_type": "code",
   "execution_count": 45,
   "metadata": {},
   "outputs": [
    {
     "data": {
      "text/html": [
       "<div>\n",
       "<style scoped>\n",
       "    .dataframe tbody tr th:only-of-type {\n",
       "        vertical-align: middle;\n",
       "    }\n",
       "\n",
       "    .dataframe tbody tr th {\n",
       "        vertical-align: top;\n",
       "    }\n",
       "\n",
       "    .dataframe thead th {\n",
       "        text-align: right;\n",
       "    }\n",
       "</style>\n",
       "<table border=\"1\" class=\"dataframe\">\n",
       "  <thead>\n",
       "    <tr style=\"text-align: right;\">\n",
       "      <th></th>\n",
       "      <th>score</th>\n",
       "      <th>pvalue</th>\n",
       "    </tr>\n",
       "  </thead>\n",
       "  <tbody>\n",
       "    <tr>\n",
       "      <th>number</th>\n",
       "      <td>4402.165967</td>\n",
       "      <td>0.000000</td>\n",
       "    </tr>\n",
       "    <tr>\n",
       "      <th>dept</th>\n",
       "      <td>8.006038</td>\n",
       "      <td>0.004662</td>\n",
       "    </tr>\n",
       "    <tr>\n",
       "      <th>yrs_experience</th>\n",
       "      <td>7.801773</td>\n",
       "      <td>0.005219</td>\n",
       "    </tr>\n",
       "    <tr>\n",
       "      <th>level</th>\n",
       "      <td>4.487657</td>\n",
       "      <td>0.034140</td>\n",
       "    </tr>\n",
       "    <tr>\n",
       "      <th>is_male</th>\n",
       "      <td>0.990816</td>\n",
       "      <td>0.319543</td>\n",
       "    </tr>\n",
       "    <tr>\n",
       "      <th>signing_bonus</th>\n",
       "      <td>0.367378</td>\n",
       "      <td>0.544437</td>\n",
       "    </tr>\n",
       "    <tr>\n",
       "      <th>degree_level</th>\n",
       "      <td>0.346021</td>\n",
       "      <td>0.556375</td>\n",
       "    </tr>\n",
       "  </tbody>\n",
       "</table>\n",
       "</div>"
      ],
      "text/plain": [
       "                      score    pvalue\n",
       "number          4402.165967  0.000000\n",
       "dept               8.006038  0.004662\n",
       "yrs_experience     7.801773  0.005219\n",
       "level              4.487657  0.034140\n",
       "is_male            0.990816  0.319543\n",
       "signing_bonus      0.367378  0.544437\n",
       "degree_level       0.346021  0.556375"
      ]
     },
     "execution_count": 45,
     "metadata": {},
     "output_type": "execute_result"
    }
   ],
   "source": [
    "chisquare_test_on_bias()"
   ]
  },
  {
   "cell_type": "markdown",
   "metadata": {},
   "source": [
    "Test result shows that: n_subordinates, department, level, yrs_experience are four factors impacting whether the employee is overpaid or underpaid."
   ]
  },
  {
   "cell_type": "code",
   "execution_count": 46,
   "metadata": {},
   "outputs": [
    {
     "data": {
      "text/plain": [
       "Text(0, 0.5, 'bias')"
      ]
     },
     "execution_count": 46,
     "metadata": {},
     "output_type": "execute_result"
    },
    {
     "data": {
      "image/png": "[encoded data removed]",
      "text/plain": [
       "<Figure size 720x360 with 1 Axes>"
      ]
     },
     "metadata": {},
     "output_type": "display_data"
    }
   ],
   "source": [
    "plt.figure(figsize=(10,5))\n",
    "plt.scatter(predresult.number,predresult.bias)\n",
    "plt.xlabel(\"number\")\n",
    "plt.ylabel(\"bias\")"
   ]
  },
  {
   "cell_type": "markdown",
   "metadata": {},
   "source": [
    "The scatterplot shows that, with more subordinates (i.e., higher level), there're more positive bias, meaning the person is more likely to be overpaid."
   ]
  }
 ],
 "metadata": {
  "kernelspec": {
   "display_name": "Python 3",
   "language": "python",
   "name": "python3"
  },
  "language_info": {
   "codemirror_mode": {
    "name": "ipython",
    "version": 3
   },
   "file_extension": ".py",
   "mimetype": "text/x-python",
   "name": "python",
   "nbconvert_exporter": "python",
   "pygments_lexer": "ipython3",
   "version": "3.6.3"
  }
 },
 "nbformat": 4,
 "nbformat_minor": 4
}
